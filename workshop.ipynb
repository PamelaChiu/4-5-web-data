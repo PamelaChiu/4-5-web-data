{
 "cells": [
  {
   "cell_type": "markdown",
   "metadata": {},
   "source": [
    "# 1. Twitch API data\n",
    "\n",
    "The URL `https://wind-bow.glitch.me/twitch-api/channels/{CHANNEL_NAME}` is an API from twitch to get data from twitch channels.\n",
    "\n",
    "Get the data from the following channels:\n",
    "\n",
    "```\n",
    "[\"ESL_SC2\", \"OgamingSC2\", \"cretetion\", \"freecodecamp\", \n",
    "    \"storbeck\", \"habathcx\", \"RobotCaleb\", \"noobs2ninjas\",\n",
    "    \"ninja\", \"shroud\", \"Dakotaz\", \"esltv_cs\", \"pokimane\", \n",
    "    \"tsm_bjergsen\", \"boxbox\", \"wtcn\", \"a_seagull\",\n",
    "    \"kinggothalion\", \"amazhs\", \"jahrein\", \"thenadeshot\", \n",
    "    \"sivhd\", \"kingrichard\"]\n",
    "```\n",
    "\n",
    "To make into a dataframe that looks like this:\n",
    "\n",
    "![](twitch.png)"
   ]
  },
  {
   "cell_type": "code",
   "execution_count": 1,
   "metadata": {},
   "outputs": [],
   "source": [
    "import requests\n",
    "import json\n",
    "import numpy as np\n",
    "import pandas as pd"
   ]
  },
  {
   "cell_type": "code",
   "execution_count": 2,
   "metadata": {},
   "outputs": [],
   "source": [
    "URL = \"https://wind-bow.glitch.me/twitch-api/channels/\"\n",
    "channels = [\"ESL_SC2\", \"OgamingSC2\", \"cretetion\", \"freecodecamp\", \n",
    "    \"storbeck\", \"habathcx\", \"RobotCaleb\", \"noobs2ninjas\",\n",
    "    \"ninja\", \"shroud\", \"Dakotaz\", \"esltv_cs\", \"pokimane\", \n",
    "    \"tsm_bjergsen\", \"boxbox\", \"wtcn\", \"a_seagull\",\n",
    "    \"kinggothalion\", \"amazhs\", \"jahrein\", \"thenadeshot\", \n",
    "    \"sivhd\", \"kingrichard\"]"
   ]
  },
  {
   "cell_type": "code",
   "execution_count": 3,
   "metadata": {
    "scrolled": false
   },
   "outputs": [],
   "source": [
    "twitch_channels = []\n",
    "\n",
    "for channel in channels:\n",
    "    JSONContent = requests.get(URL + channel).json()\n",
    "    twitch_channel = URL + channel\n",
    "    if 'error' not in JSONContent:\n",
    "        twitch_channels.append({\n",
    "            'id': JSONContent['_id'], \n",
    "            'display_name': JSONContent['display_name'], \n",
    "            'status': JSONContent['status'],\n",
    "            'followers': JSONContent['followers'], \n",
    "            'views': JSONContent['views']\n",
    "        })\n",
    "    #print(JSONContent)\n",
    "#print(twitch_channels)"
   ]
  },
  {
   "cell_type": "code",
   "execution_count": 4,
   "metadata": {},
   "outputs": [
    {
     "data": {
      "text/html": [
       "<div>\n",
       "<style scoped>\n",
       "    .dataframe tbody tr th:only-of-type {\n",
       "        vertical-align: middle;\n",
       "    }\n",
       "\n",
       "    .dataframe tbody tr th {\n",
       "        vertical-align: top;\n",
       "    }\n",
       "\n",
       "    .dataframe thead th {\n",
       "        text-align: right;\n",
       "    }\n",
       "</style>\n",
       "<table border=\"1\" class=\"dataframe\">\n",
       "  <thead>\n",
       "    <tr style=\"text-align: right;\">\n",
       "      <th></th>\n",
       "      <th>id</th>\n",
       "      <th>display_name</th>\n",
       "      <th>status</th>\n",
       "      <th>followers</th>\n",
       "      <th>views</th>\n",
       "    </tr>\n",
       "  </thead>\n",
       "  <tbody>\n",
       "    <tr>\n",
       "      <th>0</th>\n",
       "      <td>30220059</td>\n",
       "      <td>ESL_SC2</td>\n",
       "      <td>RERUN: StarCraft 2 - Terminator vs. Parting (P...</td>\n",
       "      <td>135394</td>\n",
       "      <td>60991791</td>\n",
       "    </tr>\n",
       "    <tr>\n",
       "      <th>1</th>\n",
       "      <td>71852806</td>\n",
       "      <td>OgamingSC2</td>\n",
       "      <td>UnderDogs - Rediffusion - Qualifier.</td>\n",
       "      <td>40895</td>\n",
       "      <td>20694507</td>\n",
       "    </tr>\n",
       "    <tr>\n",
       "      <th>2</th>\n",
       "      <td>90401618</td>\n",
       "      <td>cretetion</td>\n",
       "      <td>It's a Divison kind of Day</td>\n",
       "      <td>908</td>\n",
       "      <td>11631</td>\n",
       "    </tr>\n",
       "    <tr>\n",
       "      <th>3</th>\n",
       "      <td>79776140</td>\n",
       "      <td>FreeCodeCamp</td>\n",
       "      <td>Greg working on Electron-Vue boilerplate w/ Ak...</td>\n",
       "      <td>10122</td>\n",
       "      <td>163747</td>\n",
       "    </tr>\n",
       "    <tr>\n",
       "      <th>4</th>\n",
       "      <td>86238744</td>\n",
       "      <td>storbeck</td>\n",
       "      <td>None</td>\n",
       "      <td>10</td>\n",
       "      <td>1019</td>\n",
       "    </tr>\n",
       "  </tbody>\n",
       "</table>\n",
       "</div>"
      ],
      "text/plain": [
       "         id  display_name                                             status  \\\n",
       "0  30220059       ESL_SC2  RERUN: StarCraft 2 - Terminator vs. Parting (P...   \n",
       "1  71852806    OgamingSC2               UnderDogs - Rediffusion - Qualifier.   \n",
       "2  90401618     cretetion                         It's a Divison kind of Day   \n",
       "3  79776140  FreeCodeCamp  Greg working on Electron-Vue boilerplate w/ Ak...   \n",
       "4  86238744      storbeck                                               None   \n",
       "\n",
       "   followers     views  \n",
       "0     135394  60991791  \n",
       "1      40895  20694507  \n",
       "2        908     11631  \n",
       "3      10122    163747  \n",
       "4         10      1019  "
      ]
     },
     "execution_count": 4,
     "metadata": {},
     "output_type": "execute_result"
    }
   ],
   "source": [
    "dataset = pd.DataFrame(twitch_channels)\n",
    "dataset.head()"
   ]
  },
  {
   "cell_type": "markdown",
   "metadata": {},
   "source": [
    "# 2. App Store Reviews\n",
    "\n",
    "The Apple app store has a `GET` API to get reviews on apps. The URL is:\n",
    "\n",
    "```\n",
    "https://itunes.apple.com/{COUNTRY_CODE}/rss/customerreviews/id={APP_ID_HERE}/page={PAGE_NUMBER}/sortby=mostrecent/json\n",
    "```\n",
    "\n",
    "Note that you need to provide:\n",
    "\n",
    "- The country code (eg. `'us'`, `'gb'`, `'ca'`, `'au'`) \n",
    "\n",
    "- The app ID. This can be found in the web page for the app right after `id`. For instance, Candy Crush's US webpage is:\n",
    "\n",
    "`https://apps.apple.com/us/app/candy-crush-saga/id553834731`\n",
    "\n",
    "So here the ID would be `553834731`.\n",
    "\n",
    "- The \"Page Number\". The request responds with multiple pages of data, but sends them one at a time. So you can cycle through the data pages for any app on any country.\n",
    "\n",
    "### 2.1 English app reviews\n",
    "\n",
    "Get all english reviews you can for Candy Crush, Tinder, the Facebook app and Twitter (you have to get them from all the english-speaking countries you can think of!).\n",
    "\n",
    "### 2.2 Best version\n",
    "\n",
    "For each app, get the version that is the best rated.\n",
    "\n",
    "Make a visualization of the ratings per versions per app to show this.\n",
    "\n",
    "### 2.3 Top words\n",
    "\n",
    "Which word for each app is most common in the 5 star and in the 1-star review's titles?\n",
    "\n",
    "Note: `df.title.str.get_dummies()` is your friend\n",
    "\n",
    "Note: This might create a lot of data! Try to break down your analysis in chunks if it doesn't work."
   ]
  },
  {
   "cell_type": "markdown",
   "metadata": {},
   "source": [
    "https://apps.apple.com/us/app/tinder-dating-new-people/id547702041\n",
    "\n",
    "https://apps.apple.com/us/app/twitter/id333903271\n",
    "\n",
    "https://apps.apple.com/us/app/facebook/id284882215\n",
    "\n",
    "https://apps.apple.com/us/app/candy-crush-saga/id553834731"
   ]
  },
  {
   "cell_type": "markdown",
   "metadata": {},
   "source": [
    "### 2.1 English app reviews\n",
    "\n",
    "Get all english reviews you can for Candy Crush, Tinder, the Facebook app and Twitter (you have to get them from all the english-speaking countries you can think of!)."
   ]
  },
  {
   "cell_type": "code",
   "execution_count": 15,
   "metadata": {},
   "outputs": [],
   "source": [
    "countries_2 = ['us','ca','gb','au']\n",
    "app_ids = ['553834731','547702041','284882215','333903271']\n",
    "dict_app_ids = {'553834731':[], '547702041':[]}\n",
    "\n",
    "for i in range(1,3):\n",
    "    for country in countries_2:\n",
    "        for app_id in app_ids:\n",
    "            JSONContent1 = requests.get(f\"https://itunes.apple.com/{country}/rss/customerreviews/id={app_id}/page={str(i)}/sortby=mostrecent/json\").json()\n",
    "            dict_app_ids[app_id] = dict_app_ids.get(app_id,[]);\n",
    "            for entry in enumerate(JSONContent1['feed']['entry']):\n",
    "                obj = {'id': app_id, 'review': entry[1]['content']['label'], 'countryCode': country }\n",
    "                dict_app_ids[app_id].append(obj)"
   ]
  },
  {
   "cell_type": "markdown",
   "metadata": {},
   "source": [
    "\n",
    "### 2.2 Best version\n",
    "\n",
    "For each app, get the version that is the best rated.\n",
    "\n",
    "Make a visualization of the ratings per versions per app to show this."
   ]
  },
  {
   "cell_type": "code",
   "execution_count": null,
   "metadata": {},
   "outputs": [],
   "source": [
    "# countries_2 = ['us','ca','gb','au']\n",
    "# app_ids = ['553834731','547702041','284882215','333903271']\n",
    "# dict_app_ids_VR = {'553834731':None, '547702041':None,'284882215':None,'333903271':None}\n",
    "\n",
    "# for i in range(1,3):\n",
    "#     for country in countries_2:\n",
    "#         for app_id in app_ids:\n",
    "#             JSONContent1 = requests.get(f\"https://itunes.apple.com/{country}/rss/customerreviews/id={app_id}/page={str(i)}/sortby=mostrecent/json\").json()\n",
    "#             print(JSONContent1)\n",
    "#             dict_app_ids_VR[app_id] = []\n",
    "#             for entry in enumerate(JSONContent1['feed']['entry']):\n",
    "#                 dict_app_ids_VR[app_id].append({\n",
    "#                     'version': entry[1]['im:version']['label'],\n",
    "#                     'rating': entry[1]['im:rating']['label']\n",
    "#                 })"
   ]
  },
  {
   "cell_type": "code",
   "execution_count": 7,
   "metadata": {},
   "outputs": [],
   "source": [
    "countries_2 = ['us','ca','gb','au']\n",
    "app_ids = ['553834731','547702041','284882215','333903271']\n",
    "dict_app_ids_VR = {'553834731':[], '547702041':[],'284882215':[],'333903271':[]}\n",
    "\n",
    "for i in range(1,3):\n",
    "    for country in countries_2:\n",
    "        for app_id in app_ids:\n",
    "            JSONContent1 = requests.get(f\"https://itunes.apple.com/{country}/rss/customerreviews/id={app_id}/page={str(i)}/sortby=mostrecent/json\").json()\n",
    "            dict_app_ids_VR[app_id] = dict_app_ids_VR.get(app_id,[])\n",
    "            for entry in enumerate(JSONContent1['feed']['entry']):\n",
    "                dict_app_ids_VR[app_id].append({\n",
    "                    'version': entry[1]['im:version']['label'],\n",
    "                    'rating': entry[1]['im:rating']['label']\n",
    "                })"
   ]
  },
  {
   "cell_type": "code",
   "execution_count": 8,
   "metadata": {},
   "outputs": [
    {
     "name": "stdout",
     "output_type": "stream",
     "text": [
      "Candy Crush version\n",
      "1.184.1.2    4.500000\n",
      "1.196.0.1    3.082645\n",
      "1.186.0.3    3.000000\n",
      "1.193.0.2    2.956522\n",
      "1.194.0.2    2.953488\n",
      "1.196.1.1    2.766667\n",
      "1.191.0.2    2.750000\n",
      "1.192.0.1    2.708333\n",
      "1.185.0.1    2.666667\n",
      "1.188.0.4    2.615385\n",
      "1.190.0.2    2.500000\n",
      "1.195.1.1    2.435897\n",
      "1.189.0.2    2.333333\n",
      "1.187.1.1    2.000000\n",
      "Name: rating, dtype: float64\n"
     ]
    },
    {
     "data": {
      "image/png": "[encoded data removed]",
      "text/plain": [
       "<Figure size 432x288 with 1 Axes>"
      ]
     },
     "metadata": {
      "needs_background": "light"
     },
     "output_type": "display_data"
    },
    {
     "name": "stdout",
     "output_type": "stream",
     "text": [
      "Tinder version\n",
      "11.31.0    1.651163\n",
      "12.2.0     1.647059\n",
      "12.1.0     1.435484\n",
      "           1.000000\n",
      "Name: rating, dtype: float64\n"
     ]
    },
    {
     "data": {
      "image/png": "[encoded data removed]",
      "text/plain": [
       "<Figure size 432x288 with 1 Axes>"
      ]
     },
     "metadata": {
      "needs_background": "light"
     },
     "output_type": "display_data"
    },
    {
     "name": "stdout",
     "output_type": "stream",
     "text": [
      "Facebook version\n",
      "307.0    1.279412\n",
      "306.0    1.193182\n",
      "Name: rating, dtype: float64\n"
     ]
    },
    {
     "data": {
      "image/png": "[encoded data removed]",
      "text/plain": [
       "<Figure size 432x288 with 1 Axes>"
      ]
     },
     "metadata": {
      "needs_background": "light"
     },
     "output_type": "display_data"
    },
    {
     "name": "stdout",
     "output_type": "stream",
     "text": [
      "Twitter version\n",
      "8.53      3.083333\n",
      "8.54      2.862500\n",
      "8.54.5    2.813793\n",
      "8.52.1    2.594828\n",
      "8.52      2.111111\n",
      "8.51      1.769231\n",
      "Name: rating, dtype: float64\n"
     ]
    },
    {
     "data": {
      "image/png": "[encoded data removed]",
      "text/plain": [
       "<Figure size 432x288 with 1 Axes>"
      ]
     },
     "metadata": {
      "needs_background": "light"
     },
     "output_type": "display_data"
    }
   ],
   "source": [
    "import seaborn as sns\n",
    "import matplotlib.pyplot as plt\n",
    "\n",
    "lst_id = [('Candy Crush', '553834731'),('Tinder','547702041'),('Facebook','284882215'),('Twitter','333903271')]\n",
    "\n",
    "def min_max(name,id_one):\n",
    "    jsoncontent3 = dict_app_ids_VR[id_one]\n",
    "    df = pd.DataFrame.from_dict(jsoncontent3)\n",
    "    df['rating'] =  df['rating'].astype(float)\n",
    "    #print(df['version'])\n",
    "    print(name, df.groupby('version').rating.mean().sort_values(ascending=False))\n",
    "    sns.violinplot(x=df['rating'], y =df['version'])\n",
    "    plt.show()\n",
    "\n",
    "for tup in lst_id:\n",
    "    name = tup[0]\n",
    "    id_1 = tup[1]\n",
    "    min_max(name, id_1)"
   ]
  },
  {
   "cell_type": "code",
   "execution_count": null,
   "metadata": {},
   "outputs": [],
   "source": []
  },
  {
   "cell_type": "markdown",
   "metadata": {},
   "source": [
    "### 2.3 Top words\n",
    "\n",
    "Which word for each app is most common in the 5 star and in the 1-star review's titles?"
   ]
  },
  {
   "cell_type": "code",
   "execution_count": 9,
   "metadata": {},
   "outputs": [
    {
     "name": "stdout",
     "output_type": "stream",
     "text": [
      "but    4\n",
      "dtype: int64\n",
      "game    5\n",
      "dtype: int64\n"
     ]
    }
   ],
   "source": [
    "#Candy Crush Saga\n",
    "for i in range(1,3):\n",
    "    req = requests.get(f\"https://itunes.apple.com/us/rss/customerreviews/id=553834731/page={str(i)}/sortby=mostrecent/json\")\n",
    "\n",
    "    d = json.loads(req.content)\n",
    "    df = pd.DataFrame(d['feed']['entry'])\n",
    "    df['title'] = df['title'].apply(lambda x: x['label'])\n",
    "    df['im:rating'] = df['im:rating'].apply(lambda x: x['label'])\n",
    "    df['im:version'] = df['im:version'].apply(lambda x: x['label'])\n",
    "\n",
    "\n",
    "    df1 = df[(df['im:rating'] == '1') | (df['im:rating'] == '5')].copy()\n",
    "    df2 = df1[['im:rating','title']]\n",
    "    dummies = df2.title.str.get_dummies(' ')\n",
    "    print(dummies.sum(axis=0).sort_values(ascending=False)[0:1])"
   ]
  },
  {
   "cell_type": "code",
   "execution_count": 10,
   "metadata": {},
   "outputs": [
    {
     "name": "stdout",
     "output_type": "stream",
     "text": [
      "and    6\n",
      "dtype: int64\n",
      "is    5\n",
      "dtype: int64\n"
     ]
    }
   ],
   "source": [
    "#Tinder\n",
    "\n",
    "for i in range(1,3):\n",
    "    req = requests.get(f\"https://itunes.apple.com/us/rss/customerreviews/id=547702041/page={str(i)}/sortby=mostrecent/json\")\n",
    "\n",
    "    d = json.loads(req.content)\n",
    "    df = pd.DataFrame(d['feed']['entry'])\n",
    "    df['title'] = df['title'].apply(lambda x: x['label'])\n",
    "    df['im:rating'] = df['im:rating'].apply(lambda x: x['label'])\n",
    "    df['im:version'] = df['im:version'].apply(lambda x: x['label'])\n",
    "\n",
    "\n",
    "    df1 = df[(df['im:rating'] == '1') | (df['im:rating'] == '5')].copy()\n",
    "    df2 = df1[['im:rating','title']]\n",
    "    dummies = df2.title.str.get_dummies(' ')\n",
    "    print(dummies.sum(axis=0).sort_values(ascending=False)[0:1])\n",
    "    "
   ]
  },
  {
   "cell_type": "code",
   "execution_count": 13,
   "metadata": {},
   "outputs": [
    {
     "name": "stdout",
     "output_type": "stream",
     "text": [
      "Censorship    12\n",
      "dtype: int64\n",
      "Censorship    10\n",
      "dtype: int64\n"
     ]
    }
   ],
   "source": [
    "#Facebook\n",
    "for i in range(1,3):\n",
    "    req = requests.get(f\"https://itunes.apple.com/us/rss/customerreviews/id=284882215/page={str(i)}/sortby=mostrecent/json\")\n",
    "\n",
    "    d = json.loads(req.content)\n",
    "    df = pd.DataFrame(d['feed']['entry'])\n",
    "    df['title'] = df['title'].apply(lambda x: x['label'])\n",
    "    df['im:rating'] = df['im:rating'].apply(lambda x: x['label'])\n",
    "    df['im:version'] = df['im:version'].apply(lambda x: x['label'])\n",
    "\n",
    "    df1 = df[(df['im:rating'] == '1') | (df['im:rating'] == '5')].copy()\n",
    "    df2 = df1[['im:rating','title']]\n",
    "    dummies = df2.title.str.get_dummies(' ')\n",
    "    print(dummies.sum(axis=0).sort_values(ascending=False)[0:1])\n",
    "    "
   ]
  },
  {
   "cell_type": "code",
   "execution_count": 14,
   "metadata": {},
   "outputs": [
    {
     "name": "stdout",
     "output_type": "stream",
     "text": [
      "Censorship    6\n",
      "dtype: int64\n",
      "Twitter    4\n",
      "dtype: int64\n"
     ]
    }
   ],
   "source": [
    "#Twitter\n",
    "for i in range(1,3):\n",
    "    req = requests.get(f\"https://itunes.apple.com/us/rss/customerreviews/id=333903271/page={str(i)}/sortby=mostrecent/json\")\n",
    "\n",
    "    d = json.loads(req.content)\n",
    "    df = pd.DataFrame(d['feed']['entry'])\n",
    "    df['title'] = df['title'].apply(lambda x: x['label'])\n",
    "    df['im:rating'] = df['im:rating'].apply(lambda x: x['label'])\n",
    "    df['im:version'] = df['im:version'].apply(lambda x: x['label'])\n",
    "\n",
    "\n",
    "    df1 = df[(df['im:rating'] == '1') | (df['im:rating'] == '5')].copy()\n",
    "    df2 = df1[['im:rating','title']]\n",
    "    dummies = df2.title.str.get_dummies(' ')\n",
    "    print(dummies.sum(axis=0).sort_values(ascending=False)[0:1])\n",
    "    "
   ]
  },
  {
   "cell_type": "markdown",
   "metadata": {},
   "source": [
    "# 3 (STRETCH) IMDB scraping\n",
    "\n",
    "IMDB has structured web pages. We can exploit this to scrape movie data.\n",
    "\n",
    "Usinf the following URL:\n",
    "\n",
    "`https://www.imdb.com/search/title/?groups=top_1000&start={PAGE_NUMBER}&ref_=adv_nxt`\n",
    "\n",
    "With the following headers in your `GET` request: `{\"Accept-Language\": \"en-US,en;q=0.5\"}`\n",
    "\n",
    "You can generate a dataframe like this one by cycling over the page numbers in the URL requested:\n",
    "\n",
    "![](IMDB.png)\n",
    "\n",
    "Note that the following  page attribues will be of interest:\n",
    "\n",
    "- `div` with a class of `lister-item mode-advanced`\n",
    "\n",
    "- Various `span` objects within that `div` like `lister-item-year` and `runtime` and `metascore`"
   ]
  },
  {
   "cell_type": "code",
   "execution_count": null,
   "metadata": {},
   "outputs": [],
   "source": []
  },
  {
   "cell_type": "code",
   "execution_count": null,
   "metadata": {},
   "outputs": [],
   "source": []
  },
  {
   "cell_type": "code",
   "execution_count": null,
   "metadata": {},
   "outputs": [],
   "source": []
  },
  {
   "cell_type": "code",
   "execution_count": null,
   "metadata": {},
   "outputs": [],
   "source": []
  }
 ],
 "metadata": {
  "file_extension": ".py",
  "kernelspec": {
   "display_name": "Python 3",
   "language": "python",
   "name": "python3"
  },
  "language_info": {
   "codemirror_mode": {
    "name": "ipython",
    "version": 3
   },
   "file_extension": ".py",
   "mimetype": "text/x-python",
   "name": "python",
   "nbconvert_exporter": "python",
   "pygments_lexer": "ipython3",
   "version": "3.8.3"
  },
  "mimetype": "text/x-python",
  "name": "python",
  "npconvert_exporter": "python",
  "pygments_lexer": "ipython3",
  "version": 3
 },
 "nbformat": 4,
 "nbformat_minor": 2
}
